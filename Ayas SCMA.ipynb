{
 "cells": [
  {
   "cell_type": "code",
   "execution_count": 2,
   "id": "0532a361",
   "metadata": {
    "ExecuteTime": {
     "end_time": "2024-06-16T10:15:49.396620Z",
     "start_time": "2024-06-16T10:15:47.995969Z"
    }
   },
   "outputs": [],
   "source": [
    "import os, pandas as pd, numpy as np"
   ]
  },
  {
   "cell_type": "code",
   "execution_count": 1,
   "id": "fd3e9cd0",
   "metadata": {
    "ExecuteTime": {
     "end_time": "2024-06-16T10:15:50.841477Z",
     "start_time": "2024-06-16T10:15:50.836891Z"
    }
   },
   "outputs": [],
   "source": [
    "path_to_directory = \"C:\\\\Users\\\\ayas\\\\Downloads\\\\SCMA\""
   ]
  },
  {
   "cell_type": "code",
   "execution_count": 3,
   "id": "3eae14fa",
   "metadata": {},
   "outputs": [],
   "source": [
    "import os"
   ]
  },
  {
   "cell_type": "code",
   "execution_count": 4,
   "id": "fe5a422e",
   "metadata": {},
   "outputs": [],
   "source": [
    "os.chdir(path_to_directory)"
   ]
  },
  {
   "cell_type": "code",
   "execution_count": 5,
   "id": "bec3b738",
   "metadata": {},
   "outputs": [
    {
     "name": "stdout",
     "output_type": "stream",
     "text": [
      "Current Working Directory: C:\\Users\\anjel\\Downloads\\SCMA\n"
     ]
    }
   ],
   "source": [
    "print(\"Current Working Directory:\", os.getcwd())"
   ]
  },
  {
   "cell_type": "code",
   "execution_count": 8,
   "id": "23783830",
   "metadata": {},
   "outputs": [],
   "source": [
    "import pandas as pd"
   ]
  },
  {
   "cell_type": "code",
   "execution_count": 11,
   "id": "2c7b48a8",
   "metadata": {
    "ExecuteTime": {
     "end_time": "2024-06-16T10:16:04.084743Z",
     "start_time": "2024-06-16T10:15:52.236332Z"
    }
   },
   "outputs": [],
   "source": [
    "df = pd.read_csv(r\"C:\\Users\\ayas\\Downloads\\SCMA\\NSSO68.csv\", encoding=\"Latin-1\", low_memory=False)"
   ]
  },
  {
   "cell_type": "code",
   "execution_count": 12,
   "id": "f36eff79",
   "metadata": {},
   "outputs": [],
   "source": [
    "df = pd.read_csv(\"C:\\\\Users\\\\ayas\\\\Downloads\\\\SCMA\\\\NSSO68.csv\", encoding=\"Latin-1\", low_memory=False)"
   ]
  },
  {
   "cell_type": "code",
   "execution_count": 13,
   "id": "550bbf03",
   "metadata": {
    "ExecuteTime": {
     "end_time": "2024-06-16T10:16:05.280199Z",
     "start_time": "2024-06-16T10:16:05.210652Z"
    }
   },
   "outputs": [
    {
     "name": "stdout",
     "output_type": "stream",
     "text": [
      "   slno       grp  Round_Centre  FSU_number  Round  Schedule_Number  Sample  \\\n",
      "0     1  4.10E+31             1       41000     68               10       1   \n",
      "1     2  4.10E+31             1       41000     68               10       1   \n",
      "2     3  4.10E+31             1       41000     68               10       1   \n",
      "3     4  4.10E+31             1       41000     68               10       1   \n",
      "4     5  4.10E+31             1       41000     68               10       1   \n",
      "\n",
      "   Sector  state  State_Region  ...  pickle_v  sauce_jam_v  Othrprocessed_v  \\\n",
      "0       2     24           242  ...       0.0          0.0              0.0   \n",
      "1       2     24           242  ...       0.0          0.0              0.0   \n",
      "2       2     24           242  ...       0.0          0.0              0.0   \n",
      "3       2     24           242  ...       0.0          0.0              0.0   \n",
      "4       2     24           242  ...       0.0          0.0              0.0   \n",
      "\n",
      "   Beveragestotal_v  foodtotal_v  foodtotal_q  state_1  Region  \\\n",
      "0          0.000000  1141.492400    30.942394      GUJ       2   \n",
      "1         17.500000  1244.553500    29.286153      GUJ       2   \n",
      "2          0.000000  1050.315400    31.527046      GUJ       2   \n",
      "3         33.333333  1142.591667    27.834607      GUJ       2   \n",
      "4         75.000000   945.249500    27.600713      GUJ       2   \n",
      "\n",
      "   fruits_df_tt_v  fv_tot  \n",
      "0       12.000000  154.18  \n",
      "1      333.000000  484.95  \n",
      "2       35.000000  214.84  \n",
      "3      168.333333  302.30  \n",
      "4       15.000000  148.00  \n",
      "\n",
      "[5 rows x 384 columns]\n"
     ]
    }
   ],
   "source": [
    "print(df.head())"
   ]
  },
  {
   "cell_type": "code",
   "execution_count": 14,
   "id": "2d35a4db",
   "metadata": {
    "ExecuteTime": {
     "end_time": "2024-06-16T10:16:09.802843Z",
     "start_time": "2024-06-16T10:16:09.648192Z"
    }
   },
   "outputs": [],
   "source": [
    "MH = df[df['state_1']==\"MH\"]"
   ]
  },
  {
   "cell_type": "code",
   "execution_count": 15,
   "id": "32725550",
   "metadata": {
    "ExecuteTime": {
     "end_time": "2024-06-16T10:16:11.812225Z",
     "start_time": "2024-06-16T10:16:11.783885Z"
    }
   },
   "outputs": [
    {
     "data": {
      "text/plain": [
       "soyabean_q         8043\n",
       "soyabean_v         8043\n",
       "Meals_School       7953\n",
       "Meals_Employer     7899\n",
       "Land_Leased_out    7880\n",
       "                   ... \n",
       "palak_q               0\n",
       "carrot_q              0\n",
       "radish_q              0\n",
       "brinjal_q             0\n",
       "fv_tot                0\n",
       "Length: 384, dtype: int64"
      ]
     },
     "execution_count": 15,
     "metadata": {},
     "output_type": "execute_result"
    }
   ],
   "source": [
    "MH.isnull().sum().sort_values(ascending = False)"
   ]
  },
  {
   "cell_type": "code",
   "execution_count": 16,
   "id": "e4792270",
   "metadata": {
    "ExecuteTime": {
     "end_time": "2024-06-16T10:16:13.989311Z",
     "start_time": "2024-06-16T10:16:13.983296Z"
    }
   },
   "outputs": [
    {
     "data": {
      "text/plain": [
       "Index(['slno', 'grp', 'Round_Centre', 'FSU_number', 'Round', 'Schedule_Number',\n",
       "       'Sample', 'Sector', 'state', 'State_Region',\n",
       "       ...\n",
       "       'pickle_v', 'sauce_jam_v', 'Othrprocessed_v', 'Beveragestotal_v',\n",
       "       'foodtotal_v', 'foodtotal_q', 'state_1', 'Region', 'fruits_df_tt_v',\n",
       "       'fv_tot'],\n",
       "      dtype='object', length=384)"
      ]
     },
     "execution_count": 16,
     "metadata": {},
     "output_type": "execute_result"
    }
   ],
   "source": [
    "df.columns"
   ]
  },
  {
   "cell_type": "code",
   "execution_count": 17,
   "id": "995fbd7d",
   "metadata": {
    "ExecuteTime": {
     "end_time": "2024-06-16T10:20:50.710568Z",
     "start_time": "2024-06-16T10:20:50.703352Z"
    }
   },
   "outputs": [],
   "source": [
    "MH_new = MH[['state_1', 'District', 'Sector','Region','State_Region','ricetotal_q','wheattotal_q','moong_q','Milktotal_q','chicken_q','bread_q','foodtotal_q','Beveragestotal_v','Meals_At_Home']]"
   ]
  },
  {
   "cell_type": "code",
   "execution_count": 18,
   "id": "c51a30c5",
   "metadata": {
    "ExecuteTime": {
     "end_time": "2024-06-16T10:20:51.924641Z",
     "start_time": "2024-06-16T10:20:51.915336Z"
    }
   },
   "outputs": [
    {
     "data": {
      "text/plain": [
       "Meals_At_Home       184\n",
       "state_1               0\n",
       "District              0\n",
       "Sector                0\n",
       "Region                0\n",
       "State_Region          0\n",
       "ricetotal_q           0\n",
       "wheattotal_q          0\n",
       "moong_q               0\n",
       "Milktotal_q           0\n",
       "chicken_q             0\n",
       "bread_q               0\n",
       "foodtotal_q           0\n",
       "Beveragestotal_v      0\n",
       "dtype: int64"
      ]
     },
     "execution_count": 18,
     "metadata": {},
     "output_type": "execute_result"
    }
   ],
   "source": [
    "MH_new.isnull().sum().sort_values(ascending = False)"
   ]
  },
  {
   "cell_type": "code",
   "execution_count": 19,
   "id": "42af1fb2",
   "metadata": {
    "ExecuteTime": {
     "end_time": "2024-06-16T10:20:53.377364Z",
     "start_time": "2024-06-16T10:20:53.372637Z"
    }
   },
   "outputs": [],
   "source": [
    "MH_clean = MH_new.copy()"
   ]
  },
  {
   "cell_type": "code",
   "execution_count": 20,
   "id": "72563526",
   "metadata": {
    "ExecuteTime": {
     "end_time": "2024-06-16T10:20:56.084026Z",
     "start_time": "2024-06-16T10:20:56.078287Z"
    }
   },
   "outputs": [],
   "source": [
    "MH_clean.loc[:, 'Meals_At_Home'] = MH_clean['Meals_At_Home'].fillna(MH_new['Meals_At_Home'].mean())"
   ]
  },
  {
   "cell_type": "code",
   "execution_count": 21,
   "id": "5330a3c9",
   "metadata": {
    "ExecuteTime": {
     "end_time": "2024-06-16T10:21:00.719814Z",
     "start_time": "2024-06-16T10:21:00.711639Z"
    }
   },
   "outputs": [
    {
     "data": {
      "text/plain": [
       "state_1             False\n",
       "District            False\n",
       "Sector              False\n",
       "Region              False\n",
       "State_Region        False\n",
       "ricetotal_q         False\n",
       "wheattotal_q        False\n",
       "moong_q             False\n",
       "Milktotal_q         False\n",
       "chicken_q           False\n",
       "bread_q             False\n",
       "foodtotal_q         False\n",
       "Beveragestotal_v    False\n",
       "Meals_At_Home       False\n",
       "dtype: bool"
      ]
     },
     "execution_count": 21,
     "metadata": {},
     "output_type": "execute_result"
    }
   ],
   "source": [
    "MH_clean.isnull().any()"
   ]
  },
  {
   "cell_type": "code",
   "execution_count": 17,
   "id": "7c188e84",
   "metadata": {
    "ExecuteTime": {
     "end_time": "2024-06-16T04:25:21.294749Z",
     "start_time": "2024-06-16T04:25:21.291497Z"
    }
   },
   "outputs": [],
   "source": [
    "# Outlier Checking"
   ]
  },
  {
   "cell_type": "code",
   "execution_count": 3,
   "id": "53723eaa",
   "metadata": {
    "ExecuteTime": {
     "end_time": "2024-06-16T10:22:13.080162Z",
     "start_time": "2024-06-16T10:22:12.710152Z"
    }
   },
   "outputs": [],
   "source": [
    "import pandas as pd"
   ]
  },
  {
   "cell_type": "code",
   "execution_count": 4,
   "id": "99f4cd30",
   "metadata": {},
   "outputs": [
    {
     "data": {
      "image/png": "[encoded data removed]",
      "text/plain": [
       "<Figure size 800x600 with 1 Axes>"
      ]
     },
     "metadata": {},
     "output_type": "display_data"
    }
   ],
   "source": [
    "MH_clean = pd.DataFrame({'ricetotal_q': [10, 20, 30, 40, 50]})\n",
    "plt.figure(figsize=(8, 6))\n",
    "plt.boxplot(MH_clean['ricetotal_q'])\n",
    "plt.xlabel('ricetotal_q')\n",
    "plt.ylabel('Values')\n",
    "plt.title('Boxplot of ricetotal_q')\n",
    "plt.show()"
   ]
  },
  {
   "cell_type": "code",
   "execution_count": 5,
   "id": "adbfd8ac",
   "metadata": {
    "ExecuteTime": {
     "end_time": "2024-06-16T10:22:31.063124Z",
     "start_time": "2024-06-16T10:22:31.055234Z"
    }
   },
   "outputs": [],
   "source": [
    "rice1 = MH_clean['ricetotal_q'].quantile(0.25)\n",
    "rice2 = MH_clean['ricetotal_q'].quantile(0.75)\n",
    "iqr_rice = rice2-rice1\n",
    "up_limit = rice2 + 1.5*iqr_rice\n",
    "low_limit = rice1 - 1.5*iqr_rice"
   ]
  },
  {
   "cell_type": "code",
   "execution_count": null,
   "id": "9a16bf43",
   "metadata": {},
   "outputs": [],
   "source": []
  },
  {
   "cell_type": "code",
   "execution_count": 6,
   "id": "0ae50df0",
   "metadata": {
    "ExecuteTime": {
     "end_time": "2024-06-16T10:22:43.643572Z",
     "start_time": "2024-06-16T10:22:43.634294Z"
    }
   },
   "outputs": [
    {
     "ename": "NameError",
     "evalue": "name 'MH_new' is not defined",
     "output_type": "error",
     "traceback": [
      "\u001b[1;31m---------------------------------------------------------------------------\u001b[0m",
      "\u001b[1;31mNameError\u001b[0m                                 Traceback (most recent call last)",
      "Cell \u001b[1;32mIn[6], line 1\u001b[0m\n\u001b[1;32m----> 1\u001b[0m MH_clean\u001b[38;5;241m=\u001b[39mMH_new[(MH_new[\u001b[38;5;124m'\u001b[39m\u001b[38;5;124mricetotal_q\u001b[39m\u001b[38;5;124m'\u001b[39m]\u001b[38;5;241m<\u001b[39m\u001b[38;5;241m=\u001b[39mup_limit)\u001b[38;5;241m&\u001b[39m(MH_new[\u001b[38;5;124m'\u001b[39m\u001b[38;5;124mricetotal_q\u001b[39m\u001b[38;5;124m'\u001b[39m]\u001b[38;5;241m>\u001b[39m\u001b[38;5;241m=\u001b[39mlow_limit)]\n",
      "\u001b[1;31mNameError\u001b[0m: name 'MH_new' is not defined"
     ]
    }
   ],
   "source": [
    "MH_clean=MH_new[(MH_new['ricetotal_q']<=up_limit)&(MH_new['ricetotal_q']>=low_limit)]"
   ]
  },
  {
   "cell_type": "code",
   "execution_count": 39,
   "id": "bb56d36d",
   "metadata": {
    "ExecuteTime": {
     "end_time": "2024-06-16T10:23:15.268648Z",
     "start_time": "2024-06-16T10:23:15.119902Z"
    }
   },
   "outputs": [
    {
     "data": {
      "text/plain": [
       "{'whiskers': [<matplotlib.lines.Line2D at 0x21a91a17850>,\n",
       "  <matplotlib.lines.Line2D at 0x21a91a18050>],\n",
       " 'caps': [<matplotlib.lines.Line2D at 0x21a91a18c10>,\n",
       "  <matplotlib.lines.Line2D at 0x21a91a19550>],\n",
       " 'boxes': [<matplotlib.lines.Line2D at 0x21a90bb5410>],\n",
       " 'medians': [<matplotlib.lines.Line2D at 0x21a91a19e90>],\n",
       " 'fliers': [<matplotlib.lines.Line2D at 0x21a91a18650>],\n",
       " 'means': []}"
      ]
     },
     "execution_count": 39,
     "metadata": {},
     "output_type": "execute_result"
    },
    {
     "data": {
      "image/png": "[encoded data removed]",
      "text/plain": [
       "<Figure size 640x480 with 1 Axes>"
      ]
     },
     "metadata": {},
     "output_type": "display_data"
    }
   ],
   "source": [
    "plt.boxplot(AP_clean['ricetotal_q'])"
   ]
  },
  {
   "cell_type": "code",
   "execution_count": 25,
   "id": "60373275",
   "metadata": {
    "ExecuteTime": {
     "end_time": "2024-06-16T10:23:19.022374Z",
     "start_time": "2024-06-16T10:23:19.011587Z"
    }
   },
   "outputs": [
    {
     "data": {
      "text/plain": [
       "array([21, 24, 22,  9, 13, 14, 12, 11,  7,  4,  5,  6,  8, 10, 28, 20, 27,\n",
       "       18, 19, 17, 15,  2,  3,  1, 16, 25, 34, 35, 33, 31, 30, 29, 26, 32],\n",
       "      dtype=int64)"
      ]
     },
     "execution_count": 25,
     "metadata": {},
     "output_type": "execute_result"
    }
   ],
   "source": [
    "MH_clean['District'].unique()"
   ]
  },
  {
   "cell_type": "code",
   "execution_count": 27,
   "id": "37cdeaa5",
   "metadata": {
    "ExecuteTime": {
     "end_time": "2024-06-16T10:23:21.044003Z",
     "start_time": "2024-06-16T10:23:21.036312Z"
    }
   },
   "outputs": [],
   "source": [
    "# Replace values in the 'Sector' column\n",
    "MH_clean.loc[:,'Sector'] = MH_clean['Sector'].replace([1, 2], ['URBAN', 'RURAL'])"
   ]
  },
  {
   "cell_type": "code",
   "execution_count": 27,
   "id": "4338bcd0",
   "metadata": {
    "ExecuteTime": {
     "end_time": "2024-06-16T04:29:12.691488Z",
     "start_time": "2024-06-16T04:29:12.688111Z"
    }
   },
   "outputs": [],
   "source": [
    "#total consumption"
   ]
  },
  {
   "cell_type": "code",
   "execution_count": 28,
   "id": "97703b81",
   "metadata": {
    "ExecuteTime": {
     "end_time": "2024-06-16T10:23:35.351538Z",
     "start_time": "2024-06-16T10:23:35.346912Z"
    }
   },
   "outputs": [
    {
     "data": {
      "text/plain": [
       "Index(['state_1', 'District', 'Sector', 'Region', 'State_Region',\n",
       "       'ricetotal_q', 'wheattotal_q', 'moong_q', 'Milktotal_q', 'chicken_q',\n",
       "       'bread_q', 'foodtotal_q', 'Beveragestotal_v', 'Meals_At_Home'],\n",
       "      dtype='object')"
      ]
     },
     "execution_count": 28,
     "metadata": {},
     "output_type": "execute_result"
    }
   ],
   "source": [
    "MH_clean.columns"
   ]
  },
  {
   "cell_type": "code",
   "execution_count": 29,
   "id": "5907b983",
   "metadata": {
    "ExecuteTime": {
     "end_time": "2024-06-16T10:24:00.625661Z",
     "start_time": "2024-06-16T10:24:00.615361Z"
    },
    "scrolled": true
   },
   "outputs": [],
   "source": [
    "MH_clean.loc[:, 'total_consumption'] = MH_clean[['ricetotal_q', 'wheattotal_q', 'moong_q', 'Milktotal_q', 'chicken_q', 'bread_q', 'foodtotal_q', 'Beveragestotal_v']].sum(axis=1)"
   ]
  },
  {
   "cell_type": "code",
   "execution_count": 30,
   "id": "08face5f",
   "metadata": {
    "ExecuteTime": {
     "end_time": "2024-06-16T10:24:02.553328Z",
     "start_time": "2024-06-16T10:24:02.537298Z"
    }
   },
   "outputs": [
    {
     "data": {
      "text/html": [
       "<div>\n",
       "<style scoped>\n",
       "    .dataframe tbody tr th:only-of-type {\n",
       "        vertical-align: middle;\n",
       "    }\n",
       "\n",
       "    .dataframe tbody tr th {\n",
       "        vertical-align: top;\n",
       "    }\n",
       "\n",
       "    .dataframe thead th {\n",
       "        text-align: right;\n",
       "    }\n",
       "</style>\n",
       "<table border=\"1\" class=\"dataframe\">\n",
       "  <thead>\n",
       "    <tr style=\"text-align: right;\">\n",
       "      <th></th>\n",
       "      <th>state_1</th>\n",
       "      <th>District</th>\n",
       "      <th>Sector</th>\n",
       "      <th>Region</th>\n",
       "      <th>State_Region</th>\n",
       "      <th>ricetotal_q</th>\n",
       "      <th>wheattotal_q</th>\n",
       "      <th>moong_q</th>\n",
       "      <th>Milktotal_q</th>\n",
       "      <th>chicken_q</th>\n",
       "      <th>bread_q</th>\n",
       "      <th>foodtotal_q</th>\n",
       "      <th>Beveragestotal_v</th>\n",
       "      <th>Meals_At_Home</th>\n",
       "      <th>total_consumption</th>\n",
       "    </tr>\n",
       "  </thead>\n",
       "  <tbody>\n",
       "    <tr>\n",
       "      <th>7577</th>\n",
       "      <td>MH</td>\n",
       "      <td>21</td>\n",
       "      <td>RURAL</td>\n",
       "      <td>1</td>\n",
       "      <td>271</td>\n",
       "      <td>3.25</td>\n",
       "      <td>5.000000</td>\n",
       "      <td>0.500000</td>\n",
       "      <td>0</td>\n",
       "      <td>0.500000</td>\n",
       "      <td>0.250000</td>\n",
       "      <td>22.900388</td>\n",
       "      <td>12.50</td>\n",
       "      <td>56.0</td>\n",
       "      <td>44.900388</td>\n",
       "    </tr>\n",
       "    <tr>\n",
       "      <th>7578</th>\n",
       "      <td>MH</td>\n",
       "      <td>21</td>\n",
       "      <td>RURAL</td>\n",
       "      <td>1</td>\n",
       "      <td>271</td>\n",
       "      <td>6.00</td>\n",
       "      <td>1.666667</td>\n",
       "      <td>0.333333</td>\n",
       "      <td>0</td>\n",
       "      <td>0.333333</td>\n",
       "      <td>0.333333</td>\n",
       "      <td>31.650533</td>\n",
       "      <td>25.00</td>\n",
       "      <td>60.0</td>\n",
       "      <td>65.317200</td>\n",
       "    </tr>\n",
       "    <tr>\n",
       "      <th>7579</th>\n",
       "      <td>MH</td>\n",
       "      <td>21</td>\n",
       "      <td>RURAL</td>\n",
       "      <td>1</td>\n",
       "      <td>271</td>\n",
       "      <td>0.00</td>\n",
       "      <td>0.000000</td>\n",
       "      <td>0.000000</td>\n",
       "      <td>0</td>\n",
       "      <td>0.000000</td>\n",
       "      <td>0.000000</td>\n",
       "      <td>0.000000</td>\n",
       "      <td>25.00</td>\n",
       "      <td>0.0</td>\n",
       "      <td>25.000000</td>\n",
       "    </tr>\n",
       "    <tr>\n",
       "      <th>7580</th>\n",
       "      <td>MH</td>\n",
       "      <td>21</td>\n",
       "      <td>RURAL</td>\n",
       "      <td>1</td>\n",
       "      <td>271</td>\n",
       "      <td>3.00</td>\n",
       "      <td>5.000000</td>\n",
       "      <td>0.250000</td>\n",
       "      <td>0</td>\n",
       "      <td>0.000000</td>\n",
       "      <td>0.000000</td>\n",
       "      <td>19.337788</td>\n",
       "      <td>15.00</td>\n",
       "      <td>60.0</td>\n",
       "      <td>42.587788</td>\n",
       "    </tr>\n",
       "    <tr>\n",
       "      <th>7581</th>\n",
       "      <td>MH</td>\n",
       "      <td>21</td>\n",
       "      <td>RURAL</td>\n",
       "      <td>1</td>\n",
       "      <td>271</td>\n",
       "      <td>2.50</td>\n",
       "      <td>5.000000</td>\n",
       "      <td>0.250000</td>\n",
       "      <td>0</td>\n",
       "      <td>0.250000</td>\n",
       "      <td>0.000000</td>\n",
       "      <td>23.300338</td>\n",
       "      <td>46.25</td>\n",
       "      <td>60.0</td>\n",
       "      <td>77.550337</td>\n",
       "    </tr>\n",
       "  </tbody>\n",
       "</table>\n",
       "</div>"
      ],
      "text/plain": [
       "     state_1  District Sector  Region  State_Region  ricetotal_q  \\\n",
       "7577      MH        21  RURAL       1           271         3.25   \n",
       "7578      MH        21  RURAL       1           271         6.00   \n",
       "7579      MH        21  RURAL       1           271         0.00   \n",
       "7580      MH        21  RURAL       1           271         3.00   \n",
       "7581      MH        21  RURAL       1           271         2.50   \n",
       "\n",
       "      wheattotal_q   moong_q  Milktotal_q  chicken_q   bread_q  foodtotal_q  \\\n",
       "7577      5.000000  0.500000            0   0.500000  0.250000    22.900388   \n",
       "7578      1.666667  0.333333            0   0.333333  0.333333    31.650533   \n",
       "7579      0.000000  0.000000            0   0.000000  0.000000     0.000000   \n",
       "7580      5.000000  0.250000            0   0.000000  0.000000    19.337788   \n",
       "7581      5.000000  0.250000            0   0.250000  0.000000    23.300338   \n",
       "\n",
       "      Beveragestotal_v  Meals_At_Home  total_consumption  \n",
       "7577             12.50           56.0          44.900388  \n",
       "7578             25.00           60.0          65.317200  \n",
       "7579             25.00            0.0          25.000000  \n",
       "7580             15.00           60.0          42.587788  \n",
       "7581             46.25           60.0          77.550337  "
      ]
     },
     "execution_count": 30,
     "metadata": {},
     "output_type": "execute_result"
    }
   ],
   "source": [
    "MH_clean.head()"
   ]
  },
  {
   "cell_type": "code",
   "execution_count": 31,
   "id": "21f5310f",
   "metadata": {
    "ExecuteTime": {
     "end_time": "2024-06-16T10:24:05.914207Z",
     "start_time": "2024-06-16T10:24:05.880170Z"
    }
   },
   "outputs": [
    {
     "data": {
      "text/html": [
       "<div>\n",
       "<style scoped>\n",
       "    .dataframe tbody tr th:only-of-type {\n",
       "        vertical-align: middle;\n",
       "    }\n",
       "\n",
       "    .dataframe tbody tr th {\n",
       "        vertical-align: top;\n",
       "    }\n",
       "\n",
       "    .dataframe thead tr th {\n",
       "        text-align: left;\n",
       "    }\n",
       "\n",
       "    .dataframe thead tr:last-of-type th {\n",
       "        text-align: right;\n",
       "    }\n",
       "</style>\n",
       "<table border=\"1\" class=\"dataframe\">\n",
       "  <thead>\n",
       "    <tr>\n",
       "      <th></th>\n",
       "      <th colspan=\"4\" halign=\"left\">total_consumption</th>\n",
       "    </tr>\n",
       "    <tr>\n",
       "      <th></th>\n",
       "      <th>std</th>\n",
       "      <th>mean</th>\n",
       "      <th>max</th>\n",
       "      <th>min</th>\n",
       "    </tr>\n",
       "    <tr>\n",
       "      <th>Region</th>\n",
       "      <th></th>\n",
       "      <th></th>\n",
       "      <th></th>\n",
       "      <th></th>\n",
       "    </tr>\n",
       "  </thead>\n",
       "  <tbody>\n",
       "    <tr>\n",
       "      <th>1</th>\n",
       "      <td>54.508436</td>\n",
       "      <td>65.387214</td>\n",
       "      <td>498.594137</td>\n",
       "      <td>0.0</td>\n",
       "    </tr>\n",
       "    <tr>\n",
       "      <th>2</th>\n",
       "      <td>30.910619</td>\n",
       "      <td>50.397784</td>\n",
       "      <td>560.567083</td>\n",
       "      <td>0.0</td>\n",
       "    </tr>\n",
       "    <tr>\n",
       "      <th>3</th>\n",
       "      <td>27.290820</td>\n",
       "      <td>43.207922</td>\n",
       "      <td>295.575850</td>\n",
       "      <td>0.0</td>\n",
       "    </tr>\n",
       "    <tr>\n",
       "      <th>4</th>\n",
       "      <td>26.264769</td>\n",
       "      <td>45.035313</td>\n",
       "      <td>345.767750</td>\n",
       "      <td>0.0</td>\n",
       "    </tr>\n",
       "    <tr>\n",
       "      <th>5</th>\n",
       "      <td>25.680654</td>\n",
       "      <td>46.143296</td>\n",
       "      <td>244.700687</td>\n",
       "      <td>0.0</td>\n",
       "    </tr>\n",
       "    <tr>\n",
       "      <th>6</th>\n",
       "      <td>16.786203</td>\n",
       "      <td>40.608375</td>\n",
       "      <td>178.650170</td>\n",
       "      <td>0.0</td>\n",
       "    </tr>\n",
       "  </tbody>\n",
       "</table>\n",
       "</div>"
      ],
      "text/plain": [
       "       total_consumption                            \n",
       "                     std       mean         max  min\n",
       "Region                                              \n",
       "1              54.508436  65.387214  498.594137  0.0\n",
       "2              30.910619  50.397784  560.567083  0.0\n",
       "3              27.290820  43.207922  295.575850  0.0\n",
       "4              26.264769  45.035313  345.767750  0.0\n",
       "5              25.680654  46.143296  244.700687  0.0\n",
       "6              16.786203  40.608375  178.650170  0.0"
      ]
     },
     "execution_count": 31,
     "metadata": {},
     "output_type": "execute_result"
    }
   ],
   "source": [
    "MH_clean.groupby('Region').agg({'total_consumption':['std','mean','max','min']})"
   ]
  },
  {
   "cell_type": "code",
   "execution_count": 32,
   "id": "9350a8aa",
   "metadata": {
    "ExecuteTime": {
     "end_time": "2024-06-16T10:24:07.986326Z",
     "start_time": "2024-06-16T10:24:07.969988Z"
    }
   },
   "outputs": [
    {
     "data": {
      "text/html": [
       "<div>\n",
       "<style scoped>\n",
       "    .dataframe tbody tr th:only-of-type {\n",
       "        vertical-align: middle;\n",
       "    }\n",
       "\n",
       "    .dataframe tbody tr th {\n",
       "        vertical-align: top;\n",
       "    }\n",
       "\n",
       "    .dataframe thead tr th {\n",
       "        text-align: left;\n",
       "    }\n",
       "\n",
       "    .dataframe thead tr:last-of-type th {\n",
       "        text-align: right;\n",
       "    }\n",
       "</style>\n",
       "<table border=\"1\" class=\"dataframe\">\n",
       "  <thead>\n",
       "    <tr>\n",
       "      <th></th>\n",
       "      <th colspan=\"4\" halign=\"left\">total_consumption</th>\n",
       "    </tr>\n",
       "    <tr>\n",
       "      <th></th>\n",
       "      <th>std</th>\n",
       "      <th>mean</th>\n",
       "      <th>max</th>\n",
       "      <th>min</th>\n",
       "    </tr>\n",
       "    <tr>\n",
       "      <th>District</th>\n",
       "      <th></th>\n",
       "      <th></th>\n",
       "      <th></th>\n",
       "      <th></th>\n",
       "    </tr>\n",
       "  </thead>\n",
       "  <tbody>\n",
       "    <tr>\n",
       "      <th>1</th>\n",
       "      <td>13.525049</td>\n",
       "      <td>34.780813</td>\n",
       "      <td>99.383150</td>\n",
       "      <td>10.301250</td>\n",
       "    </tr>\n",
       "    <tr>\n",
       "      <th>2</th>\n",
       "      <td>20.381228</td>\n",
       "      <td>40.008405</td>\n",
       "      <td>138.224383</td>\n",
       "      <td>1.751100</td>\n",
       "    </tr>\n",
       "    <tr>\n",
       "      <th>3</th>\n",
       "      <td>32.175292</td>\n",
       "      <td>42.587370</td>\n",
       "      <td>295.575850</td>\n",
       "      <td>6.240000</td>\n",
       "    </tr>\n",
       "    <tr>\n",
       "      <th>4</th>\n",
       "      <td>19.684990</td>\n",
       "      <td>39.499138</td>\n",
       "      <td>177.727500</td>\n",
       "      <td>13.408180</td>\n",
       "    </tr>\n",
       "    <tr>\n",
       "      <th>5</th>\n",
       "      <td>24.070561</td>\n",
       "      <td>46.402107</td>\n",
       "      <td>177.950868</td>\n",
       "      <td>0.000000</td>\n",
       "    </tr>\n",
       "    <tr>\n",
       "      <th>6</th>\n",
       "      <td>15.364327</td>\n",
       "      <td>38.700840</td>\n",
       "      <td>118.343975</td>\n",
       "      <td>14.114650</td>\n",
       "    </tr>\n",
       "    <tr>\n",
       "      <th>7</th>\n",
       "      <td>17.274821</td>\n",
       "      <td>42.912575</td>\n",
       "      <td>164.151860</td>\n",
       "      <td>16.578475</td>\n",
       "    </tr>\n",
       "    <tr>\n",
       "      <th>8</th>\n",
       "      <td>35.070122</td>\n",
       "      <td>59.968482</td>\n",
       "      <td>170.000000</td>\n",
       "      <td>22.504165</td>\n",
       "    </tr>\n",
       "    <tr>\n",
       "      <th>9</th>\n",
       "      <td>32.825165</td>\n",
       "      <td>54.431552</td>\n",
       "      <td>244.700687</td>\n",
       "      <td>0.600000</td>\n",
       "    </tr>\n",
       "    <tr>\n",
       "      <th>10</th>\n",
       "      <td>19.893819</td>\n",
       "      <td>40.422942</td>\n",
       "      <td>178.650170</td>\n",
       "      <td>0.000000</td>\n",
       "    </tr>\n",
       "    <tr>\n",
       "      <th>11</th>\n",
       "      <td>14.796923</td>\n",
       "      <td>43.262319</td>\n",
       "      <td>132.985428</td>\n",
       "      <td>22.250250</td>\n",
       "    </tr>\n",
       "    <tr>\n",
       "      <th>12</th>\n",
       "      <td>21.382648</td>\n",
       "      <td>41.867453</td>\n",
       "      <td>157.600800</td>\n",
       "      <td>15.250000</td>\n",
       "    </tr>\n",
       "    <tr>\n",
       "      <th>13</th>\n",
       "      <td>12.247158</td>\n",
       "      <td>37.841033</td>\n",
       "      <td>82.450567</td>\n",
       "      <td>0.000000</td>\n",
       "    </tr>\n",
       "    <tr>\n",
       "      <th>14</th>\n",
       "      <td>11.909939</td>\n",
       "      <td>37.156571</td>\n",
       "      <td>133.955800</td>\n",
       "      <td>15.406370</td>\n",
       "    </tr>\n",
       "    <tr>\n",
       "      <th>15</th>\n",
       "      <td>25.404553</td>\n",
       "      <td>43.489244</td>\n",
       "      <td>167.300890</td>\n",
       "      <td>0.000000</td>\n",
       "    </tr>\n",
       "    <tr>\n",
       "      <th>16</th>\n",
       "      <td>38.018352</td>\n",
       "      <td>44.892427</td>\n",
       "      <td>345.767750</td>\n",
       "      <td>0.000000</td>\n",
       "    </tr>\n",
       "    <tr>\n",
       "      <th>17</th>\n",
       "      <td>26.159696</td>\n",
       "      <td>47.043210</td>\n",
       "      <td>167.576150</td>\n",
       "      <td>16.017336</td>\n",
       "    </tr>\n",
       "    <tr>\n",
       "      <th>18</th>\n",
       "      <td>25.231131</td>\n",
       "      <td>42.525776</td>\n",
       "      <td>256.150433</td>\n",
       "      <td>6.533333</td>\n",
       "    </tr>\n",
       "    <tr>\n",
       "      <th>19</th>\n",
       "      <td>25.956358</td>\n",
       "      <td>43.379649</td>\n",
       "      <td>220.351200</td>\n",
       "      <td>0.000000</td>\n",
       "    </tr>\n",
       "    <tr>\n",
       "      <th>20</th>\n",
       "      <td>28.397833</td>\n",
       "      <td>47.815506</td>\n",
       "      <td>221.752878</td>\n",
       "      <td>0.000000</td>\n",
       "    </tr>\n",
       "    <tr>\n",
       "      <th>21</th>\n",
       "      <td>54.102370</td>\n",
       "      <td>63.731042</td>\n",
       "      <td>405.417663</td>\n",
       "      <td>0.000000</td>\n",
       "    </tr>\n",
       "    <tr>\n",
       "      <th>22</th>\n",
       "      <td>62.691513</td>\n",
       "      <td>76.485934</td>\n",
       "      <td>498.594137</td>\n",
       "      <td>0.000000</td>\n",
       "    </tr>\n",
       "    <tr>\n",
       "      <th>24</th>\n",
       "      <td>36.002383</td>\n",
       "      <td>47.336097</td>\n",
       "      <td>257.376230</td>\n",
       "      <td>0.000000</td>\n",
       "    </tr>\n",
       "    <tr>\n",
       "      <th>25</th>\n",
       "      <td>37.082641</td>\n",
       "      <td>56.688835</td>\n",
       "      <td>288.988305</td>\n",
       "      <td>0.000000</td>\n",
       "    </tr>\n",
       "    <tr>\n",
       "      <th>26</th>\n",
       "      <td>22.103320</td>\n",
       "      <td>44.738191</td>\n",
       "      <td>179.305845</td>\n",
       "      <td>0.000000</td>\n",
       "    </tr>\n",
       "    <tr>\n",
       "      <th>27</th>\n",
       "      <td>24.057142</td>\n",
       "      <td>46.053152</td>\n",
       "      <td>172.750925</td>\n",
       "      <td>0.000000</td>\n",
       "    </tr>\n",
       "    <tr>\n",
       "      <th>28</th>\n",
       "      <td>24.417961</td>\n",
       "      <td>45.007330</td>\n",
       "      <td>167.526000</td>\n",
       "      <td>0.000000</td>\n",
       "    </tr>\n",
       "    <tr>\n",
       "      <th>29</th>\n",
       "      <td>24.443234</td>\n",
       "      <td>50.389748</td>\n",
       "      <td>148.525935</td>\n",
       "      <td>21.837908</td>\n",
       "    </tr>\n",
       "    <tr>\n",
       "      <th>30</th>\n",
       "      <td>26.361955</td>\n",
       "      <td>53.683294</td>\n",
       "      <td>203.100800</td>\n",
       "      <td>0.000000</td>\n",
       "    </tr>\n",
       "    <tr>\n",
       "      <th>31</th>\n",
       "      <td>47.190794</td>\n",
       "      <td>52.239056</td>\n",
       "      <td>560.567083</td>\n",
       "      <td>0.000000</td>\n",
       "    </tr>\n",
       "    <tr>\n",
       "      <th>32</th>\n",
       "      <td>25.505035</td>\n",
       "      <td>48.306135</td>\n",
       "      <td>160.050880</td>\n",
       "      <td>20.343920</td>\n",
       "    </tr>\n",
       "    <tr>\n",
       "      <th>33</th>\n",
       "      <td>18.794069</td>\n",
       "      <td>51.466972</td>\n",
       "      <td>118.235440</td>\n",
       "      <td>0.000000</td>\n",
       "    </tr>\n",
       "    <tr>\n",
       "      <th>34</th>\n",
       "      <td>14.027016</td>\n",
       "      <td>43.099665</td>\n",
       "      <td>121.490435</td>\n",
       "      <td>18.773563</td>\n",
       "    </tr>\n",
       "    <tr>\n",
       "      <th>35</th>\n",
       "      <td>15.329200</td>\n",
       "      <td>43.531389</td>\n",
       "      <td>134.316320</td>\n",
       "      <td>0.000000</td>\n",
       "    </tr>\n",
       "  </tbody>\n",
       "</table>\n",
       "</div>"
      ],
      "text/plain": [
       "         total_consumption                                  \n",
       "                       std       mean         max        min\n",
       "District                                                    \n",
       "1                13.525049  34.780813   99.383150  10.301250\n",
       "2                20.381228  40.008405  138.224383   1.751100\n",
       "3                32.175292  42.587370  295.575850   6.240000\n",
       "4                19.684990  39.499138  177.727500  13.408180\n",
       "5                24.070561  46.402107  177.950868   0.000000\n",
       "6                15.364327  38.700840  118.343975  14.114650\n",
       "7                17.274821  42.912575  164.151860  16.578475\n",
       "8                35.070122  59.968482  170.000000  22.504165\n",
       "9                32.825165  54.431552  244.700687   0.600000\n",
       "10               19.893819  40.422942  178.650170   0.000000\n",
       "11               14.796923  43.262319  132.985428  22.250250\n",
       "12               21.382648  41.867453  157.600800  15.250000\n",
       "13               12.247158  37.841033   82.450567   0.000000\n",
       "14               11.909939  37.156571  133.955800  15.406370\n",
       "15               25.404553  43.489244  167.300890   0.000000\n",
       "16               38.018352  44.892427  345.767750   0.000000\n",
       "17               26.159696  47.043210  167.576150  16.017336\n",
       "18               25.231131  42.525776  256.150433   6.533333\n",
       "19               25.956358  43.379649  220.351200   0.000000\n",
       "20               28.397833  47.815506  221.752878   0.000000\n",
       "21               54.102370  63.731042  405.417663   0.000000\n",
       "22               62.691513  76.485934  498.594137   0.000000\n",
       "24               36.002383  47.336097  257.376230   0.000000\n",
       "25               37.082641  56.688835  288.988305   0.000000\n",
       "26               22.103320  44.738191  179.305845   0.000000\n",
       "27               24.057142  46.053152  172.750925   0.000000\n",
       "28               24.417961  45.007330  167.526000   0.000000\n",
       "29               24.443234  50.389748  148.525935  21.837908\n",
       "30               26.361955  53.683294  203.100800   0.000000\n",
       "31               47.190794  52.239056  560.567083   0.000000\n",
       "32               25.505035  48.306135  160.050880  20.343920\n",
       "33               18.794069  51.466972  118.235440   0.000000\n",
       "34               14.027016  43.099665  121.490435  18.773563\n",
       "35               15.329200  43.531389  134.316320   0.000000"
      ]
     },
     "execution_count": 32,
     "metadata": {},
     "output_type": "execute_result"
    }
   ],
   "source": [
    "MH_clean.groupby('District').agg({'total_consumption':['std','mean','max','min']})"
   ]
  },
  {
   "cell_type": "code",
   "execution_count": 33,
   "id": "e401d915",
   "metadata": {
    "ExecuteTime": {
     "end_time": "2024-06-16T10:24:13.578223Z",
     "start_time": "2024-06-16T10:24:13.572952Z"
    }
   },
   "outputs": [],
   "source": [
    "total_consumption_by_districtcode=MH_clean.groupby('District')['total_consumption'].sum()"
   ]
  },
  {
   "cell_type": "code",
   "execution_count": 34,
   "id": "ad3a96bd",
   "metadata": {
    "ExecuteTime": {
     "end_time": "2024-06-16T10:24:16.346448Z",
     "start_time": "2024-06-16T10:24:16.338380Z"
    }
   },
   "outputs": [
    {
     "data": {
      "text/plain": [
       "District\n",
       "22    60270.916241\n",
       "21    46587.391958\n",
       "25    34296.744910\n",
       "Name: total_consumption, dtype: float64"
      ]
     },
     "execution_count": 34,
     "metadata": {},
     "output_type": "execute_result"
    }
   ],
   "source": [
    "total_consumption_by_districtcode.sort_values(ascending=False).head(3)"
   ]
  },
  {
   "cell_type": "code",
   "execution_count": 35,
   "id": "7202253b",
   "metadata": {
    "ExecuteTime": {
     "end_time": "2024-06-16T10:24:19.340120Z",
     "start_time": "2024-06-16T10:24:19.333211Z"
    }
   },
   "outputs": [],
   "source": [
    "MH_clean.loc[:,\"District\"] = MH_clean.loc[:,\"District\"].replace({5: \"Dhule\", 6: \"Akola\", 23: \"Wardha\"})"
   ]
  },
  {
   "cell_type": "code",
   "execution_count": 36,
   "id": "892eaac3",
   "metadata": {
    "ExecuteTime": {
     "end_time": "2024-06-16T10:24:21.218784Z",
     "start_time": "2024-06-16T10:24:21.210645Z"
    }
   },
   "outputs": [],
   "source": [
    "total_consumption_by_districtname=MH_clean.groupby('District')['total_consumption'].sum()"
   ]
  },
  {
   "cell_type": "code",
   "execution_count": 37,
   "id": "ccd48af2",
   "metadata": {
    "ExecuteTime": {
     "end_time": "2024-06-16T10:24:22.901993Z",
     "start_time": "2024-06-16T10:24:22.895026Z"
    }
   },
   "outputs": [
    {
     "data": {
      "text/plain": [
       "District\n",
       "22    60270.916241\n",
       "21    46587.391958\n",
       "25    34296.744910\n",
       "Name: total_consumption, dtype: float64"
      ]
     },
     "execution_count": 37,
     "metadata": {},
     "output_type": "execute_result"
    }
   ],
   "source": [
    "total_consumption_by_districtname.sort_values(ascending=False).head(3)"
   ]
  },
  {
   "cell_type": "code",
   "execution_count": 38,
   "id": "f34a7ab3",
   "metadata": {
    "ExecuteTime": {
     "end_time": "2024-06-16T10:24:26.024999Z",
     "start_time": "2024-06-16T10:24:26.002237Z"
    }
   },
   "outputs": [],
   "source": [
    "from statsmodels.stats import weightstats as stests"
   ]
  },
  {
   "cell_type": "code",
   "execution_count": 40,
   "id": "7a0f3736",
   "metadata": {
    "ExecuteTime": {
     "end_time": "2024-06-16T10:24:27.312812Z",
     "start_time": "2024-06-16T10:24:27.303906Z"
    }
   },
   "outputs": [],
   "source": [
    "rural=MH_clean[MH_clean['Sector']==\"RURAL\"]\n",
    "urban=MH_clean[MH_clean['Sector']==\"URBAN\"]"
   ]
  },
  {
   "cell_type": "code",
   "execution_count": 41,
   "id": "ed868d23",
   "metadata": {
    "ExecuteTime": {
     "end_time": "2024-06-16T10:24:28.869178Z",
     "start_time": "2024-06-16T10:24:28.853238Z"
    }
   },
   "outputs": [
    {
     "data": {
      "text/html": [
       "<div>\n",
       "<style scoped>\n",
       "    .dataframe tbody tr th:only-of-type {\n",
       "        vertical-align: middle;\n",
       "    }\n",
       "\n",
       "    .dataframe tbody tr th {\n",
       "        vertical-align: top;\n",
       "    }\n",
       "\n",
       "    .dataframe thead th {\n",
       "        text-align: right;\n",
       "    }\n",
       "</style>\n",
       "<table border=\"1\" class=\"dataframe\">\n",
       "  <thead>\n",
       "    <tr style=\"text-align: right;\">\n",
       "      <th></th>\n",
       "      <th>state_1</th>\n",
       "      <th>District</th>\n",
       "      <th>Sector</th>\n",
       "      <th>Region</th>\n",
       "      <th>State_Region</th>\n",
       "      <th>ricetotal_q</th>\n",
       "      <th>wheattotal_q</th>\n",
       "      <th>moong_q</th>\n",
       "      <th>Milktotal_q</th>\n",
       "      <th>chicken_q</th>\n",
       "      <th>bread_q</th>\n",
       "      <th>foodtotal_q</th>\n",
       "      <th>Beveragestotal_v</th>\n",
       "      <th>Meals_At_Home</th>\n",
       "      <th>total_consumption</th>\n",
       "    </tr>\n",
       "  </thead>\n",
       "  <tbody>\n",
       "    <tr>\n",
       "      <th>7577</th>\n",
       "      <td>MH</td>\n",
       "      <td>21</td>\n",
       "      <td>RURAL</td>\n",
       "      <td>1</td>\n",
       "      <td>271</td>\n",
       "      <td>3.25</td>\n",
       "      <td>5.000000</td>\n",
       "      <td>0.500000</td>\n",
       "      <td>0</td>\n",
       "      <td>0.500000</td>\n",
       "      <td>0.250000</td>\n",
       "      <td>22.900388</td>\n",
       "      <td>12.50</td>\n",
       "      <td>56.0</td>\n",
       "      <td>44.900388</td>\n",
       "    </tr>\n",
       "    <tr>\n",
       "      <th>7578</th>\n",
       "      <td>MH</td>\n",
       "      <td>21</td>\n",
       "      <td>RURAL</td>\n",
       "      <td>1</td>\n",
       "      <td>271</td>\n",
       "      <td>6.00</td>\n",
       "      <td>1.666667</td>\n",
       "      <td>0.333333</td>\n",
       "      <td>0</td>\n",
       "      <td>0.333333</td>\n",
       "      <td>0.333333</td>\n",
       "      <td>31.650533</td>\n",
       "      <td>25.00</td>\n",
       "      <td>60.0</td>\n",
       "      <td>65.317200</td>\n",
       "    </tr>\n",
       "    <tr>\n",
       "      <th>7579</th>\n",
       "      <td>MH</td>\n",
       "      <td>21</td>\n",
       "      <td>RURAL</td>\n",
       "      <td>1</td>\n",
       "      <td>271</td>\n",
       "      <td>0.00</td>\n",
       "      <td>0.000000</td>\n",
       "      <td>0.000000</td>\n",
       "      <td>0</td>\n",
       "      <td>0.000000</td>\n",
       "      <td>0.000000</td>\n",
       "      <td>0.000000</td>\n",
       "      <td>25.00</td>\n",
       "      <td>0.0</td>\n",
       "      <td>25.000000</td>\n",
       "    </tr>\n",
       "    <tr>\n",
       "      <th>7580</th>\n",
       "      <td>MH</td>\n",
       "      <td>21</td>\n",
       "      <td>RURAL</td>\n",
       "      <td>1</td>\n",
       "      <td>271</td>\n",
       "      <td>3.00</td>\n",
       "      <td>5.000000</td>\n",
       "      <td>0.250000</td>\n",
       "      <td>0</td>\n",
       "      <td>0.000000</td>\n",
       "      <td>0.000000</td>\n",
       "      <td>19.337788</td>\n",
       "      <td>15.00</td>\n",
       "      <td>60.0</td>\n",
       "      <td>42.587788</td>\n",
       "    </tr>\n",
       "    <tr>\n",
       "      <th>7581</th>\n",
       "      <td>MH</td>\n",
       "      <td>21</td>\n",
       "      <td>RURAL</td>\n",
       "      <td>1</td>\n",
       "      <td>271</td>\n",
       "      <td>2.50</td>\n",
       "      <td>5.000000</td>\n",
       "      <td>0.250000</td>\n",
       "      <td>0</td>\n",
       "      <td>0.250000</td>\n",
       "      <td>0.000000</td>\n",
       "      <td>23.300338</td>\n",
       "      <td>46.25</td>\n",
       "      <td>60.0</td>\n",
       "      <td>77.550337</td>\n",
       "    </tr>\n",
       "  </tbody>\n",
       "</table>\n",
       "</div>"
      ],
      "text/plain": [
       "     state_1 District Sector  Region  State_Region  ricetotal_q  wheattotal_q  \\\n",
       "7577      MH       21  RURAL       1           271         3.25      5.000000   \n",
       "7578      MH       21  RURAL       1           271         6.00      1.666667   \n",
       "7579      MH       21  RURAL       1           271         0.00      0.000000   \n",
       "7580      MH       21  RURAL       1           271         3.00      5.000000   \n",
       "7581      MH       21  RURAL       1           271         2.50      5.000000   \n",
       "\n",
       "       moong_q  Milktotal_q  chicken_q   bread_q  foodtotal_q  \\\n",
       "7577  0.500000            0   0.500000  0.250000    22.900388   \n",
       "7578  0.333333            0   0.333333  0.333333    31.650533   \n",
       "7579  0.000000            0   0.000000  0.000000     0.000000   \n",
       "7580  0.250000            0   0.000000  0.000000    19.337788   \n",
       "7581  0.250000            0   0.250000  0.000000    23.300338   \n",
       "\n",
       "      Beveragestotal_v  Meals_At_Home  total_consumption  \n",
       "7577             12.50           56.0          44.900388  \n",
       "7578             25.00           60.0          65.317200  \n",
       "7579             25.00            0.0          25.000000  \n",
       "7580             15.00           60.0          42.587788  \n",
       "7581             46.25           60.0          77.550337  "
      ]
     },
     "execution_count": 41,
     "metadata": {},
     "output_type": "execute_result"
    }
   ],
   "source": [
    "rural.head()"
   ]
  },
  {
   "cell_type": "code",
   "execution_count": 42,
   "id": "cba3ad77",
   "metadata": {
    "ExecuteTime": {
     "end_time": "2024-06-16T10:24:31.022488Z",
     "start_time": "2024-06-16T10:24:31.001243Z"
    }
   },
   "outputs": [
    {
     "data": {
      "text/html": [
       "<div>\n",
       "<style scoped>\n",
       "    .dataframe tbody tr th:only-of-type {\n",
       "        vertical-align: middle;\n",
       "    }\n",
       "\n",
       "    .dataframe tbody tr th {\n",
       "        vertical-align: top;\n",
       "    }\n",
       "\n",
       "    .dataframe thead th {\n",
       "        text-align: right;\n",
       "    }\n",
       "</style>\n",
       "<table border=\"1\" class=\"dataframe\">\n",
       "  <thead>\n",
       "    <tr style=\"text-align: right;\">\n",
       "      <th></th>\n",
       "      <th>state_1</th>\n",
       "      <th>District</th>\n",
       "      <th>Sector</th>\n",
       "      <th>Region</th>\n",
       "      <th>State_Region</th>\n",
       "      <th>ricetotal_q</th>\n",
       "      <th>wheattotal_q</th>\n",
       "      <th>moong_q</th>\n",
       "      <th>Milktotal_q</th>\n",
       "      <th>chicken_q</th>\n",
       "      <th>bread_q</th>\n",
       "      <th>foodtotal_q</th>\n",
       "      <th>Beveragestotal_v</th>\n",
       "      <th>Meals_At_Home</th>\n",
       "      <th>total_consumption</th>\n",
       "    </tr>\n",
       "  </thead>\n",
       "  <tbody>\n",
       "    <tr>\n",
       "      <th>74284</th>\n",
       "      <td>MH</td>\n",
       "      <td>24</td>\n",
       "      <td>URBAN</td>\n",
       "      <td>1</td>\n",
       "      <td>271</td>\n",
       "      <td>8.000000</td>\n",
       "      <td>4.000000</td>\n",
       "      <td>0.400000</td>\n",
       "      <td>0</td>\n",
       "      <td>0.400000</td>\n",
       "      <td>0.0</td>\n",
       "      <td>23.950328</td>\n",
       "      <td>0.0080</td>\n",
       "      <td>60.0</td>\n",
       "      <td>36.758328</td>\n",
       "    </tr>\n",
       "    <tr>\n",
       "      <th>74285</th>\n",
       "      <td>MH</td>\n",
       "      <td>24</td>\n",
       "      <td>URBAN</td>\n",
       "      <td>1</td>\n",
       "      <td>271</td>\n",
       "      <td>8.333333</td>\n",
       "      <td>2.333333</td>\n",
       "      <td>0.666667</td>\n",
       "      <td>0</td>\n",
       "      <td>0.666667</td>\n",
       "      <td>0.0</td>\n",
       "      <td>14.816903</td>\n",
       "      <td>0.0000</td>\n",
       "      <td>60.0</td>\n",
       "      <td>26.816903</td>\n",
       "    </tr>\n",
       "    <tr>\n",
       "      <th>74286</th>\n",
       "      <td>MH</td>\n",
       "      <td>24</td>\n",
       "      <td>URBAN</td>\n",
       "      <td>1</td>\n",
       "      <td>271</td>\n",
       "      <td>7.500000</td>\n",
       "      <td>1.250000</td>\n",
       "      <td>0.625000</td>\n",
       "      <td>0</td>\n",
       "      <td>0.000000</td>\n",
       "      <td>0.0</td>\n",
       "      <td>13.987700</td>\n",
       "      <td>0.0000</td>\n",
       "      <td>60.0</td>\n",
       "      <td>23.362700</td>\n",
       "    </tr>\n",
       "    <tr>\n",
       "      <th>74287</th>\n",
       "      <td>MH</td>\n",
       "      <td>24</td>\n",
       "      <td>URBAN</td>\n",
       "      <td>1</td>\n",
       "      <td>271</td>\n",
       "      <td>6.666667</td>\n",
       "      <td>1.666667</td>\n",
       "      <td>0.333333</td>\n",
       "      <td>0</td>\n",
       "      <td>0.666667</td>\n",
       "      <td>0.0</td>\n",
       "      <td>14.936903</td>\n",
       "      <td>0.0000</td>\n",
       "      <td>60.0</td>\n",
       "      <td>24.270237</td>\n",
       "    </tr>\n",
       "    <tr>\n",
       "      <th>74288</th>\n",
       "      <td>MH</td>\n",
       "      <td>24</td>\n",
       "      <td>URBAN</td>\n",
       "      <td>1</td>\n",
       "      <td>271</td>\n",
       "      <td>9.600000</td>\n",
       "      <td>1.400000</td>\n",
       "      <td>0.200000</td>\n",
       "      <td>0</td>\n",
       "      <td>0.400000</td>\n",
       "      <td>0.0</td>\n",
       "      <td>25.190440</td>\n",
       "      <td>35.0024</td>\n",
       "      <td>60.0</td>\n",
       "      <td>71.792840</td>\n",
       "    </tr>\n",
       "  </tbody>\n",
       "</table>\n",
       "</div>"
      ],
      "text/plain": [
       "      state_1 District Sector  Region  State_Region  ricetotal_q  \\\n",
       "74284      MH       24  URBAN       1           271     8.000000   \n",
       "74285      MH       24  URBAN       1           271     8.333333   \n",
       "74286      MH       24  URBAN       1           271     7.500000   \n",
       "74287      MH       24  URBAN       1           271     6.666667   \n",
       "74288      MH       24  URBAN       1           271     9.600000   \n",
       "\n",
       "       wheattotal_q   moong_q  Milktotal_q  chicken_q  bread_q  foodtotal_q  \\\n",
       "74284      4.000000  0.400000            0   0.400000      0.0    23.950328   \n",
       "74285      2.333333  0.666667            0   0.666667      0.0    14.816903   \n",
       "74286      1.250000  0.625000            0   0.000000      0.0    13.987700   \n",
       "74287      1.666667  0.333333            0   0.666667      0.0    14.936903   \n",
       "74288      1.400000  0.200000            0   0.400000      0.0    25.190440   \n",
       "\n",
       "       Beveragestotal_v  Meals_At_Home  total_consumption  \n",
       "74284            0.0080           60.0          36.758328  \n",
       "74285            0.0000           60.0          26.816903  \n",
       "74286            0.0000           60.0          23.362700  \n",
       "74287            0.0000           60.0          24.270237  \n",
       "74288           35.0024           60.0          71.792840  "
      ]
     },
     "execution_count": 42,
     "metadata": {},
     "output_type": "execute_result"
    }
   ],
   "source": [
    "urban.head()"
   ]
  },
  {
   "cell_type": "code",
   "execution_count": 43,
   "id": "676b513e",
   "metadata": {
    "ExecuteTime": {
     "end_time": "2024-06-16T10:24:32.527594Z",
     "start_time": "2024-06-16T10:24:32.524253Z"
    }
   },
   "outputs": [],
   "source": [
    "cons_rural=rural['total_consumption']\n",
    "cons_urban=urban['total_consumption']"
   ]
  },
  {
   "cell_type": "code",
   "execution_count": 44,
   "id": "7e08040d",
   "metadata": {
    "ExecuteTime": {
     "end_time": "2024-06-16T10:24:33.980015Z",
     "start_time": "2024-06-16T10:24:33.970730Z"
    }
   },
   "outputs": [
    {
     "name": "stdout",
     "output_type": "stream",
     "text": [
      "Z-Score: 21.79026348373998\n",
      "P-Value: 2.8699474516568675e-105\n"
     ]
    }
   ],
   "source": [
    "z_statistic, p_value = stests.ztest(cons_rural, cons_urban)\n",
    "# Print the z-score and p-value\n",
    "print(\"Z-Score:\", z_statistic)\n",
    "print(\"P-Value:\", p_value)"
   ]
  },
  {
   "cell_type": "code",
   "execution_count": null,
   "id": "b9dc9525",
   "metadata": {},
   "outputs": [],
   "source": []
  }
 ],
 "metadata": {
  "kernelspec": {
   "display_name": "Python 3 (ipykernel)",
   "language": "python",
   "name": "python3"
  },
  "language_info": {
   "codemirror_mode": {
    "name": "ipython",
    "version": 3
   },
   "file_extension": ".py",
   "mimetype": "text/x-python",
   "name": "python",
   "nbconvert_exporter": "python",
   "pygments_lexer": "ipython3",
   "version": "3.11.7"
  },
  "varInspector": {
   "cols": {
    "lenName": 16,
    "lenType": 16,
    "lenVar": 40
   },
   "kernels_config": {
    "python": {
     "delete_cmd_postfix": "",
     "delete_cmd_prefix": "del ",
     "library": "var_list.py",
     "varRefreshCmd": "print(var_dic_list())"
    },
    "r": {
     "delete_cmd_postfix": ") ",
     "delete_cmd_prefix": "rm(",
     "library": "var_list.r",
     "varRefreshCmd": "cat(var_dic_list()) "
    }
   },
   "types_to_exclude": [
    "module",
    "function",
    "builtin_function_or_method",
    "instance",
    "_Feature"
   ],
   "window_display": false
  }
 },
 "nbformat": 4,
 "nbformat_minor": 5
}
